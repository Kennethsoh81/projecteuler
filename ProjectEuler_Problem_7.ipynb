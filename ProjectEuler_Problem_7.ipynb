{
  "nbformat": 4,
  "nbformat_minor": 0,
  "metadata": {
    "colab": {
      "provenance": [],
      "authorship_tag": "ABX9TyPt+73ZZnEwthpiWKn6CxvR",
      "include_colab_link": true
    },
    "kernelspec": {
      "name": "python3",
      "display_name": "Python 3"
    },
    "language_info": {
      "name": "python"
    }
  },
  "cells": [
    {
      "cell_type": "markdown",
      "metadata": {
        "id": "view-in-github",
        "colab_type": "text"
      },
      "source": [
        "<a href=\"https://colab.research.google.com/github/Kennethsoh81/projecteuler/blob/main/ProjectEuler_Problem_7.ipynb\" target=\"_parent\"><img src=\"https://colab.research.google.com/assets/colab-badge.svg\" alt=\"Open In Colab\"/></a>"
      ]
    },
    {
      "cell_type": "code",
      "execution_count": 12,
      "metadata": {
        "colab": {
          "base_uri": "https://localhost:8080/"
        },
        "id": "FI6DELEURr2m",
        "outputId": "e9d57d7b-8032-45e4-f4f2-8fd5712540ac"
      },
      "outputs": [
        {
          "output_type": "stream",
          "name": "stdout",
          "text": [
            "30001\n"
          ]
        }
      ],
      "source": [
        "#List all prime numbers\n",
        "List=[2,3]\n",
        "\n",
        "for i in range(2,100000):\n",
        "  if i % 2 != 0 and i % 3 != 0:\n",
        "    List.append(i)\n",
        "\n",
        "print(List.pop(10001))"
      ]
    }
  ]
}