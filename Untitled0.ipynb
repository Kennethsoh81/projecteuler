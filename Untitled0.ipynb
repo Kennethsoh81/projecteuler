{
  "nbformat": 4,
  "nbformat_minor": 0,
  "metadata": {
    "colab": {
      "provenance": [],
      "authorship_tag": "ABX9TyPpmXc910YjquXSauD2Os3w",
      "include_colab_link": true
    },
    "kernelspec": {
      "name": "python3",
      "display_name": "Python 3"
    },
    "language_info": {
      "name": "python"
    }
  },
  "cells": [
    {
      "cell_type": "markdown",
      "metadata": {
        "id": "view-in-github",
        "colab_type": "text"
      },
      "source": [
        "<a href=\"https://colab.research.google.com/github/Kennethsoh81/projecteuler/blob/main/Untitled0.ipynb\" target=\"_parent\"><img src=\"https://colab.research.google.com/assets/colab-badge.svg\" alt=\"Open In Colab\"/></a>"
      ]
    },
    {
      "cell_type": "code",
      "execution_count": 15,
      "metadata": {
        "colab": {
          "base_uri": "https://localhost:8080/"
        },
        "id": "VCoxemo_9QZg",
        "outputId": "49a513f2-78df-46ca-ea2e-fe0498285845"
      },
      "outputs": [
        {
          "output_type": "stream",
          "name": "stdout",
          "text": [
            "4337\n"
          ]
        }
      ],
      "source": [
        "# If we list all the natural numbers below 10 that are multiples of 3 or 5, we get 3, 5, 6 and 9. The sum of these multiples is 23.\n",
        "#Find the sum of all the multiples of 3 or 5 below 1000.\n",
        "\n",
        "#process\n",
        "\n",
        "ans=0\n",
        "x=3 #multiples of 3\n",
        "y=5 #multiples of 5\n",
        "\n",
        "for i in range(1001):\n",
        "  if i%x==0:\n",
        "      ans+=x\n",
        "      \n",
        "  else:\n",
        "    i%y==0\n",
        "    ans+=y\n",
        "\n",
        "print(ans)\n",
        "\n",
        "#output\n"
      ]
    }
  ]
}