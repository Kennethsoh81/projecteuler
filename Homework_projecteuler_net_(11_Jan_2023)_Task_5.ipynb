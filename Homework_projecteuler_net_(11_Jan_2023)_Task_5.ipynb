{
  "nbformat": 4,
  "nbformat_minor": 0,
  "metadata": {
    "colab": {
      "provenance": [],
      "authorship_tag": "ABX9TyNsWjrh9trPdzu1KDOVB/KJ",
      "include_colab_link": true
    },
    "kernelspec": {
      "name": "python3",
      "display_name": "Python 3"
    },
    "language_info": {
      "name": "python"
    }
  },
  "cells": [
    {
      "cell_type": "markdown",
      "metadata": {
        "id": "view-in-github",
        "colab_type": "text"
      },
      "source": [
        "<a href=\"https://colab.research.google.com/github/Kennethsoh81/projecteuler/blob/main/Homework_projecteuler_net_(11_Jan_2023)_Task_5.ipynb\" target=\"_parent\"><img src=\"https://colab.research.google.com/assets/colab-badge.svg\" alt=\"Open In Colab\"/></a>"
      ]
    },
    {
      "cell_type": "code",
      "execution_count": 19,
      "metadata": {
        "colab": {
          "base_uri": "https://localhost:8080/"
        },
        "id": "F5u9GHBaIoF0",
        "outputId": "95e1e73c-51f7-4a3a-f7fe-ef2da4154942"
      },
      "outputs": [
        {
          "output_type": "stream",
          "name": "stdout",
          "text": [
            "232792560\n"
          ]
        }
      ],
      "source": [
        "#2520 is the smallest number that can be divided by each of the numbers from 1 to 10 without any remainder.\n",
        "\n",
        "#What is the smallest positive number that is evenly divisible by all of the numbers from 1 to 20?\n",
        "\n",
        "#Need to have a range from 1 to 20\n",
        "#Find number that can be divided w/o remainder\n",
        "\n",
        "\n",
        "#start with num=20\n",
        "#take 20 divided by each number from 20 to 1\n",
        "#if ans%1==0 and ans%2==0...\n",
        "\n",
        "\n",
        "#Function to check for 0 remainder\n",
        "\n",
        "ans=1\n",
        "while ans==1:\n",
        "  if num%1==0 and num%2==0 and num%3==0 and num%4==0 and num%5==0 and num%6==0 and num%7==0 and num%8==0 and num%9==0 and num%10==0 and num%11==0 and num%12==0 and num%13==0 and num%14==0 and num%15==0 and num%16==0 and num%17==0 and num%18==0 and num%19==0 and num%20==0:\n",
        "    print(num)\n",
        "    ans=num\n",
        "  \n",
        "  else:\n",
        "    num+=1\n",
        "\n",
        "\n",
        "\n",
        "\n"
      ]
    }
  ]
}