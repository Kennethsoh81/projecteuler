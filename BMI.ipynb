{
  "nbformat": 4,
  "nbformat_minor": 0,
  "metadata": {
    "colab": {
      "provenance": [],
      "authorship_tag": "ABX9TyNNVu0oCECWS0Sqaf9txff4",
      "include_colab_link": true
    },
    "kernelspec": {
      "name": "python3",
      "display_name": "Python 3"
    },
    "language_info": {
      "name": "python"
    }
  },
  "cells": [
    {
      "cell_type": "markdown",
      "metadata": {
        "id": "view-in-github",
        "colab_type": "text"
      },
      "source": [
        "<a href=\"https://colab.research.google.com/github/Kennethsoh81/projecteuler/blob/main/BMI.ipynb\" target=\"_parent\"><img src=\"https://colab.research.google.com/assets/colab-badge.svg\" alt=\"Open In Colab\"/></a>"
      ]
    },
    {
      "cell_type": "code",
      "execution_count": 8,
      "metadata": {
        "colab": {
          "base_uri": "https://localhost:8080/"
        },
        "id": "T_n6taWNtqg4",
        "outputId": "5ad1401c-f84f-4167-fcf9-595988a148db"
      },
      "outputs": [
        {
          "output_type": "stream",
          "name": "stdout",
          "text": [
            "Key in your weight (kg): 100\n",
            "Key in your height (m): 1.8\n",
            "Your BMI is: 30.864197530864196\n",
            "You are high risk\n"
          ]
        }
      ],
      "source": [
        "weight=int(input(\"Key in your weight (kg): \"))\n",
        "height=float(input(\"Key in your height (m): \"))\n",
        "bmi=weight/(height**2)\n",
        "\n",
        "print(\"Your BMI is: \"+str(bmi))\n",
        "\n",
        "if bmi<18.5:\n",
        "  print(\"You are malnutrition\")\n",
        "\n",
        "elif 18.5<bmi<22.9:\n",
        "  print(\"You are low risk.\")\n",
        "\n",
        "elif 23<bmi<27.4:\n",
        "  print(\"You are moderate risk\")\n",
        "\n",
        "elif bmi>27.5:\n",
        "  print(\"You are high risk\")\n",
        "\n",
        "\n"
      ]
    }
  ]
}