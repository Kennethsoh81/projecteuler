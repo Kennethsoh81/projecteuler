{
  "nbformat": 4,
  "nbformat_minor": 0,
  "metadata": {
    "colab": {
      "provenance": [],
      "authorship_tag": "ABX9TyOXaU/ml+I7Yh2OjM+Q6B72",
      "include_colab_link": true
    },
    "kernelspec": {
      "name": "python3",
      "display_name": "Python 3"
    },
    "language_info": {
      "name": "python"
    }
  },
  "cells": [
    {
      "cell_type": "markdown",
      "metadata": {
        "id": "view-in-github",
        "colab_type": "text"
      },
      "source": [
        "<a href=\"https://colab.research.google.com/github/Kennethsoh81/projecteuler/blob/main/Homework_projecteuler_net_(11_Jan_2023)_Task_3.ipynb\" target=\"_parent\"><img src=\"https://colab.research.google.com/assets/colab-badge.svg\" alt=\"Open In Colab\"/></a>"
      ]
    },
    {
      "cell_type": "code",
      "execution_count": 9,
      "metadata": {
        "id": "S2bT0i9c2Lhl",
        "colab": {
          "base_uri": "https://localhost:8080/"
        },
        "outputId": "35e41fa7-49c8-4885-b9c9-42230ee39541"
      },
      "outputs": [
        {
          "output_type": "stream",
          "name": "stdout",
          "text": [
            "[71, 839, 1471, 6857]\n",
            "6857\n"
          ]
        }
      ],
      "source": [
        "#What is the largest prime factor of the number 600851475143\n",
        "\n",
        "#Prime number a whole number greater than 1 (so this has to be an integer) \n",
        "\n",
        "#that cannot be exactly divided by any whole number other than itself and (use \"and\") 1\n",
        "\n",
        "#check for prime factors in a number\n",
        "\n",
        "def prime_factors(num):\n",
        "  factors=[]\n",
        "  divisor=2\n",
        "\n",
        "  while num > 1:\n",
        "    while num%divisor==0:\n",
        "        factors.append(divisor)\n",
        "        num=num/divisor\n",
        "    divisor=divisor+1\n",
        "  \n",
        "  return factors\n",
        "\n",
        "run=prime_factors(600851475143)\n",
        "print(run) #check all prime factors\n",
        "\n",
        "largest_prime_factor = max(run)\n",
        "print(largest_prime_factor) #final answer\n",
        "\n",
        "\n",
        "\n",
        "    \n",
        "\n",
        "\n",
        "\n"
      ]
    }
  ]
}