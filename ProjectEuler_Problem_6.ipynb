{
  "nbformat": 4,
  "nbformat_minor": 0,
  "metadata": {
    "colab": {
      "provenance": [],
      "authorship_tag": "ABX9TyOcv8HIFrqxLWrPQawSeB4l",
      "include_colab_link": true
    },
    "kernelspec": {
      "name": "python3",
      "display_name": "Python 3"
    },
    "language_info": {
      "name": "python"
    }
  },
  "cells": [
    {
      "cell_type": "markdown",
      "metadata": {
        "id": "view-in-github",
        "colab_type": "text"
      },
      "source": [
        "<a href=\"https://colab.research.google.com/github/Kennethsoh81/projecteuler/blob/main/ProjectEuler_Problem_6.ipynb\" target=\"_parent\"><img src=\"https://colab.research.google.com/assets/colab-badge.svg\" alt=\"Open In Colab\"/></a>"
      ]
    },
    {
      "cell_type": "code",
      "execution_count": 10,
      "metadata": {
        "colab": {
          "base_uri": "https://localhost:8080/"
        },
        "id": "A-58ZQH-NQaK",
        "outputId": "4b926b62-2028-4f24-b6ca-a53cfbbcab9e"
      },
      "outputs": [
        {
          "output_type": "stream",
          "name": "stdout",
          "text": [
            "Key in the number:10\n",
            "2640\n"
          ]
        }
      ],
      "source": [
        "#Enter the number of numbers\n",
        "n=int(input(\"Key in the number:\"))+1\n",
        "square_of_sum=0\n",
        "sum_of_squares=0\n",
        "\n",
        "for i in range(n):\n",
        "  sum_of_squares+=i**2\n",
        "  square_of_sum+=i\n",
        "\n",
        "print((square_of_sum)**2-sum_of_squares)\n"
      ]
    }
  ]
}