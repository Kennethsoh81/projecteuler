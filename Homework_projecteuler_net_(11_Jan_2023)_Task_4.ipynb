{
  "nbformat": 4,
  "nbformat_minor": 0,
  "metadata": {
    "colab": {
      "provenance": [],
      "authorship_tag": "ABX9TyOpB77Ahnd1Uin1hMO7EFGB",
      "include_colab_link": true
    },
    "kernelspec": {
      "name": "python3",
      "display_name": "Python 3"
    },
    "language_info": {
      "name": "python"
    }
  },
  "cells": [
    {
      "cell_type": "markdown",
      "metadata": {
        "id": "view-in-github",
        "colab_type": "text"
      },
      "source": [
        "<a href=\"https://colab.research.google.com/github/Kennethsoh81/projecteuler/blob/main/Homework_projecteuler_net_(11_Jan_2023)_Task_4.ipynb\" target=\"_parent\"><img src=\"https://colab.research.google.com/assets/colab-badge.svg\" alt=\"Open In Colab\"/></a>"
      ]
    },
    {
      "cell_type": "code",
      "execution_count": 23,
      "metadata": {
        "colab": {
          "base_uri": "https://localhost:8080/"
        },
        "id": "1w0Rcdjk9mN3",
        "outputId": "4e418b6c-9a60-44f1-b826-31d60e6d0690"
      },
      "outputs": [
        {
          "output_type": "stream",
          "name": "stdout",
          "text": [
            "10201 is a palindrome\n",
            "12321 is a palindrome\n",
            "14641 is a palindrome\n",
            "40804 is a palindrome\n",
            "44944 is a palindrome\n",
            "69696 is a palindrome\n",
            "94249 is a palindrome\n",
            "698896 is a palindrome\n"
          ]
        }
      ],
      "source": [
        "#A palindromic number reads the same both ways. The largest palindrome made from the product of two 2-digit numbers is 9009 = 91 × 99.\n",
        "\n",
        "#Find the largest palindrome made from the product of two 3-digit numbers.\n",
        "\n",
        "#Need to check for the number of digits \n",
        "#Need to code when the checking stops... maybe half the length of the number\n",
        "#Need to check for whether the numbers of corresponding sides are the same\n",
        "\n",
        "#Listing of Product of two 3-digit numbers\n",
        "\n",
        "#ans is either 5 or 6 in length\n",
        "#Need to check if it is of 5 length or 6 length\n",
        "def check_pali_5(ans):\n",
        "  ans=str(ans)\n",
        "  if ans[0]==ans[-1] and ans[1]==ans[-2]:\n",
        "    ans=int(ans)\n",
        "    print(str(ans)+\" is a palindrome\")\n",
        "\n",
        "def check_pali_6(ans):\n",
        "  ans=str(ans)\n",
        "  if ans[0]==ans[-1] and ans[1]==ans[-2] and ans[2]==ans[-3]:\n",
        "    ans=int(ans)\n",
        "    print(str(ans)+\" is a palindrome\")\n",
        "\n",
        "num1=100\n",
        "num2=100\n",
        "ans=0\n",
        "\n",
        "while num2<1000:\n",
        "  while num1<1000:\n",
        "    ans=num1*num2\n",
        "    if len(str(ans))==5:\n",
        "      check_pali_5(ans)\n",
        "\n",
        "    else:\n",
        "      check_pali_6(ans)\n",
        "\n",
        "    num1+=1\n",
        "    num2+=1"
      ]
    }
  ]
}